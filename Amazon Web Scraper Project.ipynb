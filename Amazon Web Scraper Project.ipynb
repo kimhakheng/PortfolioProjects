{
 "cells": [
  {
   "cell_type": "code",
   "execution_count": null,
   "id": "a12d4c8e",
   "metadata": {},
   "outputs": [],
   "source": [
    "# import libraries \n",
    "\n",
    "from bs4 import BeautifulSoup\n",
    "import requests\n",
    "import time\n",
    "import datetime\n",
    "\n",
    "import smtplib"
   ]
  },
  {
   "cell_type": "code",
   "execution_count": null,
   "id": "f6b3effb",
   "metadata": {},
   "outputs": [],
   "source": [
    "# Connect to the website\n",
    "URL = 'https://www.amazon.com/Stick-Figure-Friendship-Sarcastic-Funny/dp/B076FTC6FQ/ref=pd_di_sccai_1/130-0859633-0246240?pd_rd_w=H6E0a&pf_rd_p=c9443270-b914-4430-a90b-72e3e7e784e0&pf_rd_r=3VATEZ8E3TYFF3QSXESN&pd_rd_r=7b765e13-638c-445f-a53b-a2518959fe33&pd_rd_wg=L5D2O&pd_rd_i=B076FTC6FQ&psc=1'\n",
    "\n",
    "headers = {\"User-Agent\": \"Mozilla/5.0 (Windows NT 10.0; Win64; x64) AppleWebKit/537.36 (KHTML, like Gecko) Chrome/93.0.4577.63 Safari/537.36\", \"Accept-Encoding\":\"gzip, deflate, br\", \"Accept\": \"text/html,application/xhtml+xml,application/xml;q=0.9\", \"DNT\":\"1\",\"Connection\":\"close\", \"Upgrade-Insecure-Requests\":\"1\"}\n",
    "\n",
    "page = requests.get(URL, headers=headers)\n",
    "\n",
    "soup1 = BeautifulSoup(page.content, \"html.parser\")\n",
    "soup2 = BeautifulSoup(soup1.prettify(), 'html.parser')\n",
    "\n",
    "title = soup2.find(id = 'productTitle').get_text()\n",
    "price = soup2.find(id='priceblock_ourprice').get_text()\n",
    "\n",
    "print(title)\n",
    "print(price)"
   ]
  },
  {
   "cell_type": "code",
   "execution_count": null,
   "id": "cdd27a6d",
   "metadata": {},
   "outputs": [],
   "source": [
    "# Clean up the data a little bit\n",
    "\n",
    "title = title.strip()\n",
    "price = price.strip()[1:]\n",
    "\n",
    "print(title)\n",
    "print(price)"
   ]
  },
  {
   "cell_type": "code",
   "execution_count": null,
   "id": "68b4f5e0",
   "metadata": {},
   "outputs": [],
   "source": [
    "import datetime\n",
    "\n",
    "today = datetime.date.today()\n",
    "\n",
    "print(today)"
   ]
  },
  {
   "cell_type": "code",
   "execution_count": null,
   "id": "138eff65",
   "metadata": {},
   "outputs": [],
   "source": [
    "import csv\n",
    "\n",
    "header = ['Title', 'price', 'Date']\n",
    "data = [title, price, today]\n",
    "\n",
    "with open('AmazonWebScraperDataset.csv', 'w', newline='', encoding='UTF8') as f:\n",
    "    writer = csv.writer(f)\n",
    "    writer.writerow(header)\n",
    "    writer.writerow(data)"
   ]
  },
  {
   "cell_type": "code",
   "execution_count": null,
   "id": "660fbae0",
   "metadata": {},
   "outputs": [],
   "source": [
    "import pandas as pd\n",
    "\n",
    "df = pd.read_csv(r'C:\\Users\\Heng Kimhak\\AmazonWebScraperDataset.csv')\n",
    "\n",
    "print(df)"
   ]
  },
  {
   "cell_type": "code",
   "execution_count": null,
   "id": "b97dd14b",
   "metadata": {},
   "outputs": [],
   "source": [
    "# Now we are appending data to the CSV\n",
    "\n",
    "with open('AmazonWebScraperDataset.csv', 'a+', newline='', encoding='UTF8') as f:\n",
    "    writer = csv.writer(f)\n",
    "    writer.writerow(data)"
   ]
  },
  {
   "cell_type": "code",
   "execution_count": null,
   "id": "f70fdc3b",
   "metadata": {},
   "outputs": [],
   "source": [
    "def check_price():\n",
    "    URL = 'https://www.amazon.com/Stick-Figure-Friendship-Sarcastic-Funny/dp/B076FTC6FQ/ref=pd_di_sccai_1/130-0859633-0246240?pd_rd_w=H6E0a&pf_rd_p=c9443270-b914-4430-a90b-72e3e7e784e0&pf_rd_r=3VATEZ8E3TYFF3QSXESN&pd_rd_r=7b765e13-638c-445f-a53b-a2518959fe33&pd_rd_wg=L5D2O&pd_rd_i=B076FTC6FQ&psc=1'\n",
    "    headers = {\"User-Agent\": \"Mozilla/5.0 (Windows NT 10.0; Win64; x64) AppleWebKit/537.36 (KHTML, like Gecko) Chrome/93.0.4577.63 Safari/537.36\", \"Accept-Encoding\":\"gzip, deflate, br\", \"Accept\": \"text/html,application/xhtml+xml,application/xml;q=0.9\", \"DNT\":\"1\",\"Connection\":\"close\", \"Upgrade-Insecure-Requests\":\"1\"}\n",
    "    page = requests.get(URL, headers=headers)\n",
    "\n",
    "    soup1 = BeautifulSoup(page.content, \"html.parser\")\n",
    "    soup2 = BeautifulSoup(soup1.prettify(), 'html.parser')\n",
    "\n",
    "    title = soup2.find(id = 'productTitle').get_text()\n",
    "    price = soup2.find(id='priceblock_ourprice').get_text()\n",
    "    \n",
    "    title = title.strip()\n",
    "    price = price.strip()[1:]\n",
    "    \n",
    "    \n",
    "    import datetime\n",
    "    today = datetime.date.today()\n",
    "    \n",
    "    \n",
    "    import csv\n",
    "    header = ['Title', 'price', 'Date']\n",
    "    data = [title, price, today]\n",
    "\n",
    "    with open('AmazonWebScraperDataset.csv', 'w', newline='', encoding='UTF8') as f:\n",
    "        writer = csv.writer(f)\n",
    "        writer.writerow(header)\n",
    "        writer.writerow(data)\n",
    "    "
   ]
  },
  {
   "cell_type": "code",
   "execution_count": null,
   "id": "d6125bdc",
   "metadata": {},
   "outputs": [],
   "source": [
    "# Runs check_price after a set time and inputs data into your CSV\n",
    "\n",
    "while(True):\n",
    "    check_price()\n",
    "    time.sleep(5)"
   ]
  },
  {
   "cell_type": "code",
   "execution_count": null,
   "id": "0fe9b649",
   "metadata": {},
   "outputs": [],
   "source": [
    "import pandas as pd\n",
    "\n",
    "df = pd.read_csv(r'C:\\Users\\Heng Kimhak\\AmazonWebScraperDataset.csv')\n",
    "\n",
    "print(df)"
   ]
  },
  {
   "cell_type": "code",
   "execution_count": null,
   "id": "e08f6fed",
   "metadata": {},
   "outputs": [],
   "source": []
  }
 ],
 "metadata": {
  "kernelspec": {
   "display_name": "Python 3",
   "language": "python",
   "name": "python3"
  },
  "language_info": {
   "codemirror_mode": {
    "name": "ipython",
    "version": 3
   },
   "file_extension": ".py",
   "mimetype": "text/x-python",
   "name": "python",
   "nbconvert_exporter": "python",
   "pygments_lexer": "ipython3",
   "version": "3.8.8"
  }
 },
 "nbformat": 4,
 "nbformat_minor": 5
}
